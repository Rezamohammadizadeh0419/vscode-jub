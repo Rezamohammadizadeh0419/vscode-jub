{
 "cells": [
  {
   "cell_type": "code",
   "execution_count": 3,
   "id": "8977e055",
   "metadata": {},
   "outputs": [],
   "source": [
    "fruits = ['apple', 'banana', 'cherry', 'date']"
   ]
  },
  {
   "cell_type": "code",
   "execution_count": 4,
   "id": "5fa2a4cd",
   "metadata": {},
   "outputs": [
    {
     "name": "stdout",
     "output_type": "stream",
     "text": [
      "apple\n"
     ]
    }
   ],
   "source": [
    "print(fruits[0])"
   ]
  },
  {
   "cell_type": "code",
   "execution_count": 5,
   "id": "4b1a5dbe",
   "metadata": {},
   "outputs": [
    {
     "data": {
      "text/plain": [
       "'cherry'"
      ]
     },
     "execution_count": 5,
     "metadata": {},
     "output_type": "execute_result"
    }
   ],
   "source": [
    "fruits[2]"
   ]
  },
  {
   "cell_type": "code",
   "execution_count": 6,
   "id": "85c2e547",
   "metadata": {},
   "outputs": [
    {
     "data": {
      "text/plain": [
       "['apple', 'banana', 'cherry', 'date']"
      ]
     },
     "execution_count": 6,
     "metadata": {},
     "output_type": "execute_result"
    }
   ],
   "source": [
    "fruits[::]"
   ]
  },
  {
   "cell_type": "code",
   "execution_count": 7,
   "id": "c16d4336",
   "metadata": {},
   "outputs": [
    {
     "data": {
      "text/plain": [
       "['banana', 'cherry']"
      ]
     },
     "execution_count": 7,
     "metadata": {},
     "output_type": "execute_result"
    }
   ],
   "source": [
    "fruits[1:3]"
   ]
  },
  {
   "cell_type": "code",
   "execution_count": 8,
   "id": "56bb3d86",
   "metadata": {},
   "outputs": [
    {
     "data": {
      "text/plain": [
       "['date', 'cherry', 'banana', 'apple']"
      ]
     },
     "execution_count": 8,
     "metadata": {},
     "output_type": "execute_result"
    }
   ],
   "source": [
    "fruits[::-1]"
   ]
  },
  {
   "cell_type": "code",
   "execution_count": 9,
   "id": "98ee632c",
   "metadata": {},
   "outputs": [
    {
     "name": "stdout",
     "output_type": "stream",
     "text": [
      "['apple', 'banana', 'cherry', 'date']\n"
     ]
    }
   ],
   "source": [
    "print(fruits)"
   ]
  },
  {
   "cell_type": "code",
   "execution_count": 10,
   "id": "f1058fec",
   "metadata": {},
   "outputs": [],
   "source": [
    "fruits[2] = \"ali\""
   ]
  },
  {
   "cell_type": "code",
   "execution_count": 11,
   "id": "5b970446",
   "metadata": {},
   "outputs": [
    {
     "name": "stdout",
     "output_type": "stream",
     "text": [
      "['apple', 'banana', 'ali', 'date']\n"
     ]
    }
   ],
   "source": [
    "print(fruits)"
   ]
  },
  {
   "cell_type": "code",
   "execution_count": 12,
   "id": "e33ab9a7",
   "metadata": {},
   "outputs": [],
   "source": [
    "fruits.append(\"sara\")"
   ]
  },
  {
   "cell_type": "code",
   "execution_count": 13,
   "id": "9526d593",
   "metadata": {},
   "outputs": [
    {
     "data": {
      "text/plain": [
       "['apple', 'banana', 'ali', 'date', 'sara']"
      ]
     },
     "execution_count": 13,
     "metadata": {},
     "output_type": "execute_result"
    }
   ],
   "source": [
    "fruits"
   ]
  },
  {
   "cell_type": "code",
   "execution_count": 14,
   "id": "4494b712",
   "metadata": {},
   "outputs": [
    {
     "name": "stdout",
     "output_type": "stream",
     "text": [
      "['apple', 'banana', 'ali', 'date', 'sara', 'ali', 'mina', 'sara']\n"
     ]
    }
   ],
   "source": [
    "fruits.extend([ 'ali','mina', 'sara'])\n",
    "print(fruits)"
   ]
  },
  {
   "cell_type": "code",
   "execution_count": 15,
   "id": "93d947b4",
   "metadata": {},
   "outputs": [],
   "source": [
    "fruits.insert(1, 'added')"
   ]
  },
  {
   "cell_type": "code",
   "execution_count": 16,
   "id": "d421c445",
   "metadata": {},
   "outputs": [
    {
     "name": "stdout",
     "output_type": "stream",
     "text": [
      "['apple', 'added', 'banana', 'ali', 'date', 'sara', 'ali', 'mina', 'sara']\n"
     ]
    }
   ],
   "source": [
    "print(fruits)"
   ]
  },
  {
   "cell_type": "code",
   "execution_count": 17,
   "id": "36c8fcf7",
   "metadata": {},
   "outputs": [],
   "source": [
    "refu = fruits.pop()"
   ]
  },
  {
   "cell_type": "code",
   "execution_count": 18,
   "id": "d4660b62",
   "metadata": {},
   "outputs": [
    {
     "data": {
      "text/plain": [
       "'sara'"
      ]
     },
     "execution_count": 18,
     "metadata": {},
     "output_type": "execute_result"
    }
   ],
   "source": [
    "refu"
   ]
  },
  {
   "cell_type": "code",
   "execution_count": 19,
   "id": "6a01b80d",
   "metadata": {},
   "outputs": [
    {
     "data": {
      "text/plain": [
       "'apple'"
      ]
     },
     "execution_count": 19,
     "metadata": {},
     "output_type": "execute_result"
    }
   ],
   "source": [
    "fruits.pop(0)"
   ]
  },
  {
   "cell_type": "code",
   "execution_count": 20,
   "id": "f1c93ca5",
   "metadata": {},
   "outputs": [
    {
     "name": "stdout",
     "output_type": "stream",
     "text": [
      "['added', 'banana', 'ali', 'date', 'sara', 'ali', 'mina']\n"
     ]
    }
   ],
   "source": [
    "print(fruits)"
   ]
  },
  {
   "cell_type": "code",
   "execution_count": 21,
   "id": "651c9fc2",
   "metadata": {},
   "outputs": [],
   "source": [
    "fruits.remove('ali')"
   ]
  },
  {
   "cell_type": "code",
   "execution_count": 22,
   "id": "a8eb3cb5",
   "metadata": {},
   "outputs": [
    {
     "data": {
      "text/plain": [
       "['added', 'banana', 'date', 'sara', 'ali', 'mina']"
      ]
     },
     "execution_count": 22,
     "metadata": {},
     "output_type": "execute_result"
    }
   ],
   "source": [
    "fruits"
   ]
  },
  {
   "cell_type": "code",
   "execution_count": 23,
   "id": "ecaa178c",
   "metadata": {},
   "outputs": [],
   "source": [
    "del fruits[0]"
   ]
  },
  {
   "cell_type": "code",
   "execution_count": 24,
   "id": "83061eb4",
   "metadata": {},
   "outputs": [
    {
     "data": {
      "text/plain": [
       "['banana', 'date', 'sara', 'ali', 'mina']"
      ]
     },
     "execution_count": 24,
     "metadata": {},
     "output_type": "execute_result"
    }
   ],
   "source": [
    "fruits"
   ]
  },
  {
   "cell_type": "code",
   "execution_count": 25,
   "id": "06ea8ba8",
   "metadata": {},
   "outputs": [
    {
     "name": "stdout",
     "output_type": "stream",
     "text": [
      "['banana', 'date', 'sara', 'ali', 'mina']\n"
     ]
    }
   ],
   "source": [
    "print(fruits)"
   ]
  },
  {
   "cell_type": "code",
   "execution_count": 26,
   "id": "26938f03",
   "metadata": {},
   "outputs": [],
   "source": [
    "fruits.clear()"
   ]
  },
  {
   "cell_type": "code",
   "execution_count": 27,
   "id": "a892a08e",
   "metadata": {},
   "outputs": [
    {
     "data": {
      "text/plain": [
       "[]"
      ]
     },
     "execution_count": 27,
     "metadata": {},
     "output_type": "execute_result"
    }
   ],
   "source": [
    "fruits"
   ]
  },
  {
   "cell_type": "code",
   "execution_count": 28,
   "id": "05ba5397",
   "metadata": {},
   "outputs": [],
   "source": [
    "list_one = [1, 2,3 ]\n",
    "list_tow = [4, 5, 6]"
   ]
  },
  {
   "cell_type": "code",
   "execution_count": 29,
   "id": "3921d9e8",
   "metadata": {},
   "outputs": [],
   "source": [
    "list_sum = list_one + list_tow"
   ]
  },
  {
   "cell_type": "code",
   "execution_count": 30,
   "id": "3bddc8bc",
   "metadata": {},
   "outputs": [
    {
     "name": "stdout",
     "output_type": "stream",
     "text": [
      "[1, 2, 3, 4, 5, 6]\n"
     ]
    }
   ],
   "source": [
    "print(list_sum)"
   ]
  },
  {
   "cell_type": "code",
   "execution_count": 31,
   "id": "4f5c3cd3",
   "metadata": {},
   "outputs": [],
   "source": [
    "lsit_number = [1, 1, 1, 1, 1, 2, 3, 4, 5, 5, 6 , 'ali', 'ali', 'ali']"
   ]
  },
  {
   "cell_type": "code",
   "execution_count": 32,
   "id": "5ae945d7",
   "metadata": {},
   "outputs": [],
   "source": [
    "counted1 = lsit_number.count(1)"
   ]
  },
  {
   "cell_type": "code",
   "execution_count": 33,
   "id": "cde3d8a5",
   "metadata": {},
   "outputs": [
    {
     "name": "stdout",
     "output_type": "stream",
     "text": [
      "5\n"
     ]
    }
   ],
   "source": [
    "print(counted1)"
   ]
  },
  {
   "cell_type": "code",
   "execution_count": 34,
   "id": "6b41ea26",
   "metadata": {},
   "outputs": [],
   "source": [
    "counted2 = lsit_number.count('ali')"
   ]
  },
  {
   "cell_type": "code",
   "execution_count": 35,
   "id": "94f3bfc0",
   "metadata": {},
   "outputs": [
    {
     "name": "stdout",
     "output_type": "stream",
     "text": [
      "3\n"
     ]
    }
   ],
   "source": [
    "print(counted2)"
   ]
  },
  {
   "cell_type": "code",
   "execution_count": 36,
   "id": "db4ba29b",
   "metadata": {},
   "outputs": [],
   "source": [
    "a = lsit_number.reverse()"
   ]
  },
  {
   "cell_type": "code",
   "execution_count": 37,
   "id": "12878fab",
   "metadata": {},
   "outputs": [
    {
     "data": {
      "text/plain": [
       "['ali', 'ali', 'ali', 6, 5, 5, 4, 3, 2, 1, 1, 1, 1, 1]"
      ]
     },
     "execution_count": 37,
     "metadata": {},
     "output_type": "execute_result"
    }
   ],
   "source": [
    "lsit_number"
   ]
  },
  {
   "cell_type": "code",
   "execution_count": 38,
   "id": "ccfde644",
   "metadata": {},
   "outputs": [
    {
     "name": "stdout",
     "output_type": "stream",
     "text": [
      "None\n"
     ]
    }
   ],
   "source": [
    "print(a)"
   ]
  },
  {
   "cell_type": "code",
   "execution_count": 39,
   "id": "a347537d",
   "metadata": {},
   "outputs": [
    {
     "data": {
      "text/plain": [
       "[1, 1, 1, 1, 1, 2, 3, 4, 5, 5, 6, 'ali', 'ali', 'ali']"
      ]
     },
     "execution_count": 39,
     "metadata": {},
     "output_type": "execute_result"
    }
   ],
   "source": [
    "list(reversed(lsit_number))"
   ]
  },
  {
   "cell_type": "code",
   "execution_count": 40,
   "id": "033b414d",
   "metadata": {},
   "outputs": [
    {
     "name": "stdout",
     "output_type": "stream",
     "text": [
      "['ali', 'ali', 'ali', 6, 5, 5, 4, 3, 2, 1, 1, 1, 1, 1]\n"
     ]
    }
   ],
   "source": [
    "print(lsit_number)"
   ]
  },
  {
   "cell_type": "code",
   "execution_count": 41,
   "id": "3bfcc01a",
   "metadata": {},
   "outputs": [
    {
     "name": "stdout",
     "output_type": "stream",
     "text": [
      "\n"
     ]
    }
   ],
   "source": [
    "print()"
   ]
  },
  {
   "cell_type": "code",
   "execution_count": 42,
   "id": "89b0e2d2",
   "metadata": {},
   "outputs": [],
   "source": [
    "copylist = [3, 6, 1, 3, 7, 9, 3]"
   ]
  },
  {
   "cell_type": "code",
   "execution_count": 43,
   "id": "c8103195",
   "metadata": {},
   "outputs": [],
   "source": [
    "color = ['red', 'green', 'blue', 'yellow']"
   ]
  },
  {
   "cell_type": "code",
   "execution_count": 44,
   "id": "bd61daf9",
   "metadata": {},
   "outputs": [],
   "source": [
    "color[color.index('blue')] = 'aqua'"
   ]
  },
  {
   "cell_type": "code",
   "execution_count": 45,
   "id": "da9e8914",
   "metadata": {},
   "outputs": [
    {
     "data": {
      "text/plain": [
       "['red', 'green', 'aqua', 'yellow']"
      ]
     },
     "execution_count": 45,
     "metadata": {},
     "output_type": "execute_result"
    }
   ],
   "source": [
    "color"
   ]
  },
  {
   "cell_type": "code",
   "execution_count": 46,
   "id": "fcecd850",
   "metadata": {},
   "outputs": [],
   "source": [
    "color.append('purple')"
   ]
  },
  {
   "cell_type": "code",
   "execution_count": 47,
   "id": "fe425704",
   "metadata": {},
   "outputs": [
    {
     "name": "stdout",
     "output_type": "stream",
     "text": [
      "['red', 'green', 'aqua', 'yellow', 'purple']\n"
     ]
    }
   ],
   "source": [
    "print(color)"
   ]
  },
  {
   "cell_type": "code",
   "execution_count": 48,
   "id": "2bded68a",
   "metadata": {},
   "outputs": [],
   "source": [
    "tupletype = (1, 2, 3, 4, 5)"
   ]
  },
  {
   "cell_type": "code",
   "execution_count": 49,
   "id": "4a87b322",
   "metadata": {},
   "outputs": [
    {
     "data": {
      "text/plain": [
       "(5, 4, 3, 2, 1)"
      ]
     },
     "execution_count": 49,
     "metadata": {},
     "output_type": "execute_result"
    }
   ],
   "source": [
    "tuple(reversed(tupletype))"
   ]
  },
  {
   "cell_type": "code",
   "execution_count": 51,
   "id": "94166843",
   "metadata": {},
   "outputs": [
    {
     "name": "stdout",
     "output_type": "stream",
     "text": [
      "(1, 2, 3, 4, 5)\n"
     ]
    }
   ],
   "source": [
    "print(tupletype)"
   ]
  },
  {
   "cell_type": "code",
   "execution_count": 52,
   "id": "59e2f9b9",
   "metadata": {},
   "outputs": [],
   "source": [
    "my_tuple = ('hello', 'sara', 'miaa', 'zahra')"
   ]
  },
  {
   "cell_type": "code",
   "execution_count": 54,
   "id": "1e623282",
   "metadata": {},
   "outputs": [
    {
     "name": "stdout",
     "output_type": "stream",
     "text": [
      "('hello', 'sara', 'miaa', 'zahra')\n"
     ]
    }
   ],
   "source": [
    "print(my_tuple)"
   ]
  },
  {
   "cell_type": "code",
   "execution_count": 56,
   "id": "56090a6f",
   "metadata": {},
   "outputs": [
    {
     "name": "stdout",
     "output_type": "stream",
     "text": [
      "()\n"
     ]
    }
   ],
   "source": [
    "empty_tuple = ()\n",
    "print(empty_tuple)"
   ]
  },
  {
   "cell_type": "code",
   "execution_count": 58,
   "id": "b93489d5",
   "metadata": {},
   "outputs": [
    {
     "name": "stdout",
     "output_type": "stream",
     "text": [
      "()\n"
     ]
    }
   ],
   "source": [
    "empty_tuple1 = tuple()\n",
    "print(empty_tuple1)"
   ]
  },
  {
   "cell_type": "code",
   "execution_count": 59,
   "id": "11461864",
   "metadata": {},
   "outputs": [],
   "source": [
    "single_element = (3,)"
   ]
  },
  {
   "cell_type": "code",
   "execution_count": 61,
   "id": "5fa9e7fc",
   "metadata": {},
   "outputs": [
    {
     "data": {
      "text/plain": [
       "(3,)"
      ]
     },
     "execution_count": 61,
     "metadata": {},
     "output_type": "execute_result"
    }
   ],
   "source": [
    "single_element"
   ]
  },
  {
   "cell_type": "code",
   "execution_count": 63,
   "id": "dec5d1cf",
   "metadata": {},
   "outputs": [
    {
     "name": "stdout",
     "output_type": "stream",
     "text": [
      "<class 'tuple'>\n"
     ]
    }
   ],
   "source": [
    "print(type(single_element))"
   ]
  },
  {
   "cell_type": "code",
   "execution_count": 65,
   "id": "fa10e8f6",
   "metadata": {},
   "outputs": [
    {
     "data": {
      "text/plain": [
       "tuple"
      ]
     },
     "execution_count": 65,
     "metadata": {},
     "output_type": "execute_result"
    }
   ],
   "source": [
    "type(single_element)"
   ]
  },
  {
   "cell_type": "code",
   "execution_count": 66,
   "id": "fb608da7",
   "metadata": {},
   "outputs": [],
   "source": [
    "nested_tuple = (1, 2, 3, (5, 6, 7))"
   ]
  },
  {
   "cell_type": "code",
   "execution_count": 68,
   "id": "ca90b8d5",
   "metadata": {},
   "outputs": [
    {
     "name": "stdout",
     "output_type": "stream",
     "text": [
      "(1, 2, 3, (5, 6, 7))\n"
     ]
    }
   ],
   "source": [
    "print(nested_tuple)"
   ]
  },
  {
   "cell_type": "code",
   "execution_count": 70,
   "id": "91e74f6f",
   "metadata": {},
   "outputs": [
    {
     "data": {
      "text/plain": [
       "(1, 2, 3, (5, 6, 7))"
      ]
     },
     "execution_count": 70,
     "metadata": {},
     "output_type": "execute_result"
    }
   ],
   "source": [
    "nested_tuple"
   ]
  },
  {
   "cell_type": "code",
   "execution_count": 71,
   "id": "0c7eeb38",
   "metadata": {},
   "outputs": [],
   "source": [
    "my_tuple = (1, 2,3, 4,5,6, (6, 7, 8))"
   ]
  },
  {
   "cell_type": "code",
   "execution_count": 85,
   "id": "19dabedc",
   "metadata": {},
   "outputs": [
    {
     "name": "stdout",
     "output_type": "stream",
     "text": [
      "<class 'int'>\n"
     ]
    }
   ],
   "source": [
    "n = my_tuple[3]\n",
    "print(type(n))"
   ]
  },
  {
   "cell_type": "code",
   "execution_count": 86,
   "id": "bfcba28c",
   "metadata": {},
   "outputs": [
    {
     "data": {
      "text/plain": [
       "8"
      ]
     },
     "execution_count": 86,
     "metadata": {},
     "output_type": "execute_result"
    }
   ],
   "source": [
    "my_tuple[6][2]"
   ]
  },
  {
   "cell_type": "code",
   "execution_count": 87,
   "id": "8200f29e",
   "metadata": {},
   "outputs": [
    {
     "data": {
      "text/plain": [
       "(2, 3, 4, 5, 6, (6, 7, 8))"
      ]
     },
     "execution_count": 87,
     "metadata": {},
     "output_type": "execute_result"
    }
   ],
   "source": [
    "my_tuple[1:]"
   ]
  },
  {
   "cell_type": "code",
   "execution_count": 95,
   "id": "a15ca2cf",
   "metadata": {},
   "outputs": [],
   "source": [
    "my_info = (\"jane Doe\", \"123 elm street\", 28)"
   ]
  },
  {
   "cell_type": "code",
   "execution_count": 109,
   "id": "aa257df8",
   "metadata": {},
   "outputs": [],
   "source": [
    "my_info = my_info[:] + (29,)"
   ]
  },
  {
   "cell_type": "code",
   "execution_count": 110,
   "id": "d909d974",
   "metadata": {},
   "outputs": [
    {
     "name": "stdout",
     "output_type": "stream",
     "text": [
      "('jane Doe', '123 elm street', 28, 29, 29, 29, 29, 29, 29, 29, 29, 29, 29, 29, 29, 29)\n"
     ]
    }
   ],
   "source": [
    "print(my_info)"
   ]
  },
  {
   "cell_type": "code",
   "execution_count": 111,
   "id": "a4817207",
   "metadata": {},
   "outputs": [],
   "source": [
    "tuple1 = (1, 2, 3, 4)\n",
    "tuple2 = (5, 6, 7, 8)\n",
    "tuple3 = tuple1 + tuple2"
   ]
  },
  {
   "cell_type": "code",
   "execution_count": 115,
   "id": "97184858",
   "metadata": {},
   "outputs": [
    {
     "name": "stdout",
     "output_type": "stream",
     "text": [
      "(1, 2, 3, 4, 5, 6, 7, 8)\n"
     ]
    }
   ],
   "source": [
    "print(tuple3)"
   ]
  },
  {
   "cell_type": "code",
   "execution_count": 116,
   "id": "6e2243f2",
   "metadata": {},
   "outputs": [
    {
     "data": {
      "text/plain": [
       "True"
      ]
     },
     "execution_count": 116,
     "metadata": {},
     "output_type": "execute_result"
    }
   ],
   "source": [
    "2 in tuple1"
   ]
  },
  {
   "cell_type": "code",
   "execution_count": 117,
   "id": "d671f10c",
   "metadata": {},
   "outputs": [
    {
     "data": {
      "text/plain": [
       "3"
      ]
     },
     "execution_count": 117,
     "metadata": {},
     "output_type": "execute_result"
    }
   ],
   "source": [
    "tuple2.index(8)"
   ]
  }
 ],
 "metadata": {
  "kernelspec": {
   "display_name": "python3.3",
   "language": "python",
   "name": "python3"
  },
  "language_info": {
   "codemirror_mode": {
    "name": "ipython",
    "version": 3
   },
   "file_extension": ".py",
   "mimetype": "text/x-python",
   "name": "python",
   "nbconvert_exporter": "python",
   "pygments_lexer": "ipython3",
   "version": "3.13.5"
  }
 },
 "nbformat": 4,
 "nbformat_minor": 5
}
