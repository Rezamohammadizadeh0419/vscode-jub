{
 "cells": [
  {
   "cell_type": "code",
   "execution_count": 1,
   "id": "e733528b",
   "metadata": {},
   "outputs": [],
   "source": [
    "name = input(\"inter your name : \")"
   ]
  },
  {
   "cell_type": "code",
   "execution_count": 3,
   "id": "dee6cfc6",
   "metadata": {},
   "outputs": [
    {
     "name": "stdout",
     "output_type": "stream",
     "text": [
      "ali\n"
     ]
    }
   ],
   "source": [
    "print(name)"
   ]
  },
  {
   "cell_type": "code",
   "execution_count": 4,
   "id": "5e26f4af",
   "metadata": {},
   "outputs": [],
   "source": [
    "age = int(input(\"how old are you?\"))"
   ]
  },
  {
   "cell_type": "code",
   "execution_count": 6,
   "id": "a92d1e60",
   "metadata": {},
   "outputs": [
    {
     "name": "stdout",
     "output_type": "stream",
     "text": [
      "22\n"
     ]
    }
   ],
   "source": [
    "print(age)"
   ]
  },
  {
   "cell_type": "code",
   "execution_count": 7,
   "id": "3ddf58c6",
   "metadata": {},
   "outputs": [],
   "source": [
    "greeting = \"hello ,{}\""
   ]
  },
  {
   "cell_type": "code",
   "execution_count": 21,
   "id": "12070d9a",
   "metadata": {},
   "outputs": [],
   "source": [
    "template = \"hello i'm {name} , and you are {name2}\""
   ]
  },
  {
   "cell_type": "code",
   "execution_count": 23,
   "id": "4297d4fe",
   "metadata": {},
   "outputs": [
    {
     "data": {
      "text/plain": [
       "\"hello i'm ali , and you are reza\""
      ]
     },
     "execution_count": 23,
     "metadata": {},
     "output_type": "execute_result"
    }
   ],
   "source": [
    "template.format(name = \"ali\",name2 = \"reza\")"
   ]
  },
  {
   "cell_type": "code",
   "execution_count": 25,
   "id": "01a92f5c",
   "metadata": {},
   "outputs": [],
   "source": [
    "name = \"reza\"\n",
    "other_name = \"mina\""
   ]
  },
  {
   "cell_type": "code",
   "execution_count": 26,
   "id": "f280b382",
   "metadata": {},
   "outputs": [
    {
     "name": "stdout",
     "output_type": "stream",
     "text": [
      "my name is reza and my sister is mina\n"
     ]
    }
   ],
   "source": [
    "print(F\"my name is {name} and my sister is {other_name}\")"
   ]
  }
 ],
 "metadata": {
  "kernelspec": {
   "display_name": "python3.3",
   "language": "python",
   "name": "python3"
  },
  "language_info": {
   "codemirror_mode": {
    "name": "ipython",
    "version": 3
   },
   "file_extension": ".py",
   "mimetype": "text/x-python",
   "name": "python",
   "nbconvert_exporter": "python",
   "pygments_lexer": "ipython3",
   "version": "3.13.5"
  }
 },
 "nbformat": 4,
 "nbformat_minor": 5
}
