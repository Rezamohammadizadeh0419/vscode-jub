{
 "cells": [
  {
   "cell_type": "code",
   "execution_count": 121,
   "id": "8977e055",
   "metadata": {},
   "outputs": [],
   "source": [
    "fruits = ['apple', 'banana', 'cherry', 'date']"
   ]
  },
  {
   "cell_type": "code",
   "execution_count": 63,
   "id": "5fa2a4cd",
   "metadata": {},
   "outputs": [
    {
     "name": "stdout",
     "output_type": "stream",
     "text": [
      "apple\n"
     ]
    }
   ],
   "source": [
    "print(fruits[0])"
   ]
  },
  {
   "cell_type": "code",
   "execution_count": 65,
   "id": "4b1a5dbe",
   "metadata": {},
   "outputs": [
    {
     "data": {
      "text/plain": [
       "'cherry'"
      ]
     },
     "execution_count": 65,
     "metadata": {},
     "output_type": "execute_result"
    }
   ],
   "source": [
    "fruits[2]"
   ]
  },
  {
   "cell_type": "code",
   "execution_count": 67,
   "id": "85c2e547",
   "metadata": {},
   "outputs": [
    {
     "data": {
      "text/plain": [
       "['apple', 'banana', 'cherry', 'date']"
      ]
     },
     "execution_count": 67,
     "metadata": {},
     "output_type": "execute_result"
    }
   ],
   "source": [
    "fruits[::]"
   ]
  },
  {
   "cell_type": "code",
   "execution_count": 69,
   "id": "c16d4336",
   "metadata": {},
   "outputs": [
    {
     "data": {
      "text/plain": [
       "['banana', 'cherry']"
      ]
     },
     "execution_count": 69,
     "metadata": {},
     "output_type": "execute_result"
    }
   ],
   "source": [
    "fruits[1:3]"
   ]
  },
  {
   "cell_type": "code",
   "execution_count": 71,
   "id": "56bb3d86",
   "metadata": {},
   "outputs": [
    {
     "data": {
      "text/plain": [
       "['date', 'cherry', 'banana', 'apple']"
      ]
     },
     "execution_count": 71,
     "metadata": {},
     "output_type": "execute_result"
    }
   ],
   "source": [
    "fruits[::-1]"
   ]
  },
  {
   "cell_type": "code",
   "execution_count": 73,
   "id": "98ee632c",
   "metadata": {},
   "outputs": [
    {
     "name": "stdout",
     "output_type": "stream",
     "text": [
      "['apple', 'banana', 'cherry', 'date']\n"
     ]
    }
   ],
   "source": [
    "print(fruits)"
   ]
  },
  {
   "cell_type": "code",
   "execution_count": 74,
   "id": "f1058fec",
   "metadata": {},
   "outputs": [],
   "source": [
    "fruits[2] = \"ali\""
   ]
  },
  {
   "cell_type": "code",
   "execution_count": 76,
   "id": "5b970446",
   "metadata": {},
   "outputs": [
    {
     "name": "stdout",
     "output_type": "stream",
     "text": [
      "['apple', 'banana', 'ali', 'date']\n"
     ]
    }
   ],
   "source": [
    "print(fruits)"
   ]
  },
  {
   "cell_type": "code",
   "execution_count": 77,
   "id": "e33ab9a7",
   "metadata": {},
   "outputs": [],
   "source": [
    "fruits.append(\"sara\")"
   ]
  },
  {
   "cell_type": "code",
   "execution_count": 79,
   "id": "9526d593",
   "metadata": {},
   "outputs": [
    {
     "data": {
      "text/plain": [
       "['apple', 'banana', 'ali', 'date', 'sara']"
      ]
     },
     "execution_count": 79,
     "metadata": {},
     "output_type": "execute_result"
    }
   ],
   "source": [
    "fruits"
   ]
  },
  {
   "cell_type": "code",
   "execution_count": 83,
   "id": "4494b712",
   "metadata": {},
   "outputs": [
    {
     "name": "stdout",
     "output_type": "stream",
     "text": [
      "['apple', 'banana', 'ali', 'date', 'sara', 'ali', 'mina', 'sara', 'ali', 'mina', 'sara']\n"
     ]
    }
   ],
   "source": [
    "fruits.extend([ 'ali','mina', 'sara'])\n",
    "print(fruits)"
   ]
  },
  {
   "cell_type": "code",
   "execution_count": 85,
   "id": "93d947b4",
   "metadata": {},
   "outputs": [],
   "source": [
    "fruits.insert(1, 'added')"
   ]
  },
  {
   "cell_type": "code",
   "execution_count": 97,
   "id": "d421c445",
   "metadata": {},
   "outputs": [
    {
     "name": "stdout",
     "output_type": "stream",
     "text": [
      "['added', 'banana', 'ali', 'date', 'sara', 'ali', 'mina', 'sara', 'ali']\n"
     ]
    }
   ],
   "source": [
    "print(fruits)"
   ]
  },
  {
   "cell_type": "code",
   "execution_count": 95,
   "id": "36c8fcf7",
   "metadata": {},
   "outputs": [],
   "source": [
    "refu = fruits.pop()"
   ]
  },
  {
   "cell_type": "code",
   "execution_count": 96,
   "id": "d4660b62",
   "metadata": {},
   "outputs": [
    {
     "data": {
      "text/plain": [
       "'mina'"
      ]
     },
     "execution_count": 96,
     "metadata": {},
     "output_type": "execute_result"
    }
   ],
   "source": [
    "refu"
   ]
  },
  {
   "cell_type": "code",
   "execution_count": 98,
   "id": "6a01b80d",
   "metadata": {},
   "outputs": [
    {
     "data": {
      "text/plain": [
       "'added'"
      ]
     },
     "execution_count": 98,
     "metadata": {},
     "output_type": "execute_result"
    }
   ],
   "source": [
    "fruits.pop(0)"
   ]
  },
  {
   "cell_type": "code",
   "execution_count": 100,
   "id": "f1c93ca5",
   "metadata": {},
   "outputs": [
    {
     "name": "stdout",
     "output_type": "stream",
     "text": [
      "['banana', 'ali', 'date', 'sara', 'ali', 'mina', 'sara', 'ali']\n"
     ]
    }
   ],
   "source": [
    "print(fruits)"
   ]
  },
  {
   "cell_type": "code",
   "execution_count": 102,
   "id": "651c9fc2",
   "metadata": {},
   "outputs": [],
   "source": [
    "fruits.remove('ali')"
   ]
  },
  {
   "cell_type": "code",
   "execution_count": 104,
   "id": "a8eb3cb5",
   "metadata": {},
   "outputs": [
    {
     "data": {
      "text/plain": [
       "['banana', 'date', 'sara', 'mina', 'sara', 'ali']"
      ]
     },
     "execution_count": 104,
     "metadata": {},
     "output_type": "execute_result"
    }
   ],
   "source": [
    "fruits"
   ]
  },
  {
   "cell_type": "code",
   "execution_count": 108,
   "id": "ecaa178c",
   "metadata": {},
   "outputs": [],
   "source": [
    "del fruits[0]"
   ]
  },
  {
   "cell_type": "code",
   "execution_count": 116,
   "id": "83061eb4",
   "metadata": {},
   "outputs": [
    {
     "data": {
      "text/plain": [
       "['apple', 'banana', 'cherry', 'date']"
      ]
     },
     "execution_count": 116,
     "metadata": {},
     "output_type": "execute_result"
    }
   ],
   "source": [
    "fruits"
   ]
  },
  {
   "cell_type": "code",
   "execution_count": 122,
   "id": "06ea8ba8",
   "metadata": {},
   "outputs": [
    {
     "name": "stdout",
     "output_type": "stream",
     "text": [
      "['apple', 'banana', 'cherry', 'date']\n"
     ]
    }
   ],
   "source": [
    "print(fruits)"
   ]
  },
  {
   "cell_type": "code",
   "execution_count": 124,
   "id": "26938f03",
   "metadata": {},
   "outputs": [],
   "source": [
    "fruits.clear()"
   ]
  },
  {
   "cell_type": "code",
   "execution_count": 126,
   "id": "a892a08e",
   "metadata": {},
   "outputs": [
    {
     "data": {
      "text/plain": [
       "[]"
      ]
     },
     "execution_count": 126,
     "metadata": {},
     "output_type": "execute_result"
    }
   ],
   "source": [
    "fruits"
   ]
  },
  {
   "cell_type": "code",
   "execution_count": 127,
   "id": "05ba5397",
   "metadata": {},
   "outputs": [],
   "source": [
    "list_one = [1, 2,3 ]\n",
    "list_tow = [4, 5, 6]"
   ]
  },
  {
   "cell_type": "code",
   "execution_count": 128,
   "id": "3921d9e8",
   "metadata": {},
   "outputs": [],
   "source": [
    "list_sum = list_one + list_tow"
   ]
  },
  {
   "cell_type": "code",
   "execution_count": 130,
   "id": "3bddc8bc",
   "metadata": {},
   "outputs": [
    {
     "name": "stdout",
     "output_type": "stream",
     "text": [
      "[1, 2, 3, 4, 5, 6]\n"
     ]
    }
   ],
   "source": [
    "print(list_sum)"
   ]
  },
  {
   "cell_type": "code",
   "execution_count": 148,
   "id": "4f5c3cd3",
   "metadata": {},
   "outputs": [],
   "source": [
    "lsit_number = [1, 1, 1, 1, 1, 2, 3, 4, 5, 5, 6 , 'ali', 'ali', 'ali']"
   ]
  },
  {
   "cell_type": "code",
   "execution_count": 135,
   "id": "5ae945d7",
   "metadata": {},
   "outputs": [],
   "source": [
    "counted1 = lsit_number.count(1)"
   ]
  },
  {
   "cell_type": "code",
   "execution_count": 136,
   "id": "cde3d8a5",
   "metadata": {},
   "outputs": [
    {
     "name": "stdout",
     "output_type": "stream",
     "text": [
      "5\n"
     ]
    }
   ],
   "source": [
    "print(counted1)"
   ]
  },
  {
   "cell_type": "code",
   "execution_count": 138,
   "id": "6b41ea26",
   "metadata": {},
   "outputs": [],
   "source": [
    "counted2 = lsit_number.count('ali')"
   ]
  },
  {
   "cell_type": "code",
   "execution_count": 140,
   "id": "94f3bfc0",
   "metadata": {},
   "outputs": [
    {
     "name": "stdout",
     "output_type": "stream",
     "text": [
      "3\n"
     ]
    }
   ],
   "source": [
    "print(counted2)"
   ]
  },
  {
   "cell_type": "code",
   "execution_count": 149,
   "id": "db4ba29b",
   "metadata": {},
   "outputs": [],
   "source": [
    "a = lsit_number.reverse()"
   ]
  },
  {
   "cell_type": "code",
   "execution_count": 151,
   "id": "12878fab",
   "metadata": {},
   "outputs": [
    {
     "data": {
      "text/plain": [
       "['ali', 'ali', 'ali', 6, 5, 5, 4, 3, 2, 1, 1, 1, 1, 1]"
      ]
     },
     "execution_count": 151,
     "metadata": {},
     "output_type": "execute_result"
    }
   ],
   "source": [
    "lsit_number"
   ]
  },
  {
   "cell_type": "code",
   "execution_count": 153,
   "id": "ccfde644",
   "metadata": {},
   "outputs": [
    {
     "name": "stdout",
     "output_type": "stream",
     "text": [
      "None\n"
     ]
    }
   ],
   "source": [
    "print(a)"
   ]
  },
  {
   "cell_type": "code",
   "execution_count": 154,
   "id": "a347537d",
   "metadata": {},
   "outputs": [
    {
     "data": {
      "text/plain": [
       "[1, 1, 1, 1, 1, 2, 3, 4, 5, 5, 6, 'ali', 'ali', 'ali']"
      ]
     },
     "execution_count": 154,
     "metadata": {},
     "output_type": "execute_result"
    }
   ],
   "source": [
    "list(reversed(lsit_number))"
   ]
  },
  {
   "cell_type": "code",
   "execution_count": 156,
   "id": "033b414d",
   "metadata": {},
   "outputs": [
    {
     "name": "stdout",
     "output_type": "stream",
     "text": [
      "['ali', 'ali', 'ali', 6, 5, 5, 4, 3, 2, 1, 1, 1, 1, 1]\n"
     ]
    }
   ],
   "source": [
    "print(lsit_number)"
   ]
  },
  {
   "cell_type": "code",
   "execution_count": 157,
   "id": "3bfcc01a",
   "metadata": {},
   "outputs": [
    {
     "name": "stdout",
     "output_type": "stream",
     "text": [
      "\n"
     ]
    }
   ],
   "source": [
    "print()"
   ]
  },
  {
   "cell_type": "code",
   "execution_count": 158,
   "id": "89b0e2d2",
   "metadata": {},
   "outputs": [],
   "source": [
    "copylist = [3, 6, 1, 3, 7, 9, 3]"
   ]
  },
  {
   "cell_type": "code",
   "execution_count": 162,
   "id": "c8103195",
   "metadata": {},
   "outputs": [],
   "source": [
    "color = ['red', 'green', 'blue', 'yellow']"
   ]
  },
  {
   "cell_type": "code",
   "execution_count": 164,
   "id": "bd61daf9",
   "metadata": {},
   "outputs": [],
   "source": [
    "color[color.index('blue')] = 'aqua'"
   ]
  },
  {
   "cell_type": "code",
   "execution_count": 166,
   "id": "da9e8914",
   "metadata": {},
   "outputs": [
    {
     "data": {
      "text/plain": [
       "['red', 'green', 'aqua', 'yellow']"
      ]
     },
     "execution_count": 166,
     "metadata": {},
     "output_type": "execute_result"
    }
   ],
   "source": [
    "color"
   ]
  },
  {
   "cell_type": "code",
   "execution_count": 168,
   "id": "fcecd850",
   "metadata": {},
   "outputs": [],
   "source": [
    "color.append('purple')"
   ]
  },
  {
   "cell_type": "code",
   "execution_count": 170,
   "id": "fe425704",
   "metadata": {},
   "outputs": [
    {
     "name": "stdout",
     "output_type": "stream",
     "text": [
      "['red', 'green', 'aqua', 'yellow', 'purple', 'purple']\n"
     ]
    }
   ],
   "source": [
    "print(color)"
   ]
  },
  {
   "cell_type": "code",
   "execution_count": 171,
   "id": "2bded68a",
   "metadata": {},
   "outputs": [],
   "source": [
    "tupletype = (1, 2, 3, 4, 5)"
   ]
  },
  {
   "cell_type": "code",
   "execution_count": 173,
   "id": "4a87b322",
   "metadata": {},
   "outputs": [
    {
     "data": {
      "text/plain": [
       "(5, 4, 3, 2, 1)"
      ]
     },
     "execution_count": 173,
     "metadata": {},
     "output_type": "execute_result"
    }
   ],
   "source": [
    "tuple(reversed(tupletype))"
   ]
  },
  {
   "cell_type": "code",
   "execution_count": 174,
   "id": "94166843",
   "metadata": {},
   "outputs": [
    {
     "name": "stdout",
     "output_type": "stream",
     "text": [
      "(1, 2, 3, 4, 5)\n"
     ]
    }
   ],
   "source": [
    "print(tupletype)"
   ]
  }
 ],
 "metadata": {
  "kernelspec": {
   "display_name": "python3.3",
   "language": "python",
   "name": "python3"
  },
  "language_info": {
   "codemirror_mode": {
    "name": "ipython",
    "version": 3
   },
   "file_extension": ".py",
   "mimetype": "text/x-python",
   "name": "python",
   "nbconvert_exporter": "python",
   "pygments_lexer": "ipython3",
   "version": "3.13.5"
  }
 },
 "nbformat": 4,
 "nbformat_minor": 5
}
